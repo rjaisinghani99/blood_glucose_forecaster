{
  "cells": [
    {
      "cell_type": "code",
      "execution_count": null,
      "metadata": {
        "colab": {
          "base_uri": "https://localhost:8080/"
        },
        "id": "QH814vk8L_1Y",
        "outputId": "840b844d-e3b5-4823-ff87-95a2df244ead"
      },
      "outputs": [],
      "source": [
        "!pip install tslearn"
      ]
    },
    {
      "cell_type": "code",
      "execution_count": 1,
      "metadata": {
        "id": "5qGcUu8m-mOM"
      },
      "outputs": [
        {
          "name": "stderr",
          "output_type": "stream",
          "text": [
            "/Users/laurenbeede/miniconda3/envs/lfads-torch/lib/python3.9/site-packages/tqdm/auto.py:21: TqdmWarning: IProgress not found. Please update jupyter and ipywidgets. See https://ipywidgets.readthedocs.io/en/stable/user_install.html\n",
            "  from .autonotebook import tqdm as notebook_tqdm\n"
          ]
        }
      ],
      "source": [
        "import pandas as pd\n",
        "import glob\n",
        "import numpy as np\n",
        "import matplotlib.pyplot as plt\n",
        "from sklearn.preprocessing import MinMaxScaler\n",
        "from tslearn.metrics import cdist_dtw\n",
        "from tslearn.clustering import TimeSeriesKMeans\n",
        "from sklearn.metrics import silhouette_score"
      ]
    },
    {
      "cell_type": "code",
      "execution_count": 2,
      "metadata": {
        "colab": {
          "base_uri": "https://localhost:8080/"
        },
        "id": "FPdd3ZBpRs-3",
        "outputId": "00b29359-c58b-409f-bbe9-05f9f0eb237e"
      },
      "outputs": [
        {
          "data": {
            "text/plain": [
              "(339429, 14)"
            ]
          },
          "execution_count": 2,
          "metadata": {},
          "output_type": "execute_result"
        }
      ],
      "source": [
        "path = '/Users/laurenbeede/Google Drive/My Drive/STAT5243/FinalProject/Dexcom Data/'\n",
        "\n",
        "csv_files = glob.glob(path + '*.csv')\n",
        "\n",
        "df_list = []\n",
        "\n",
        "for file in csv_files:\n",
        "    df = pd.read_csv(file, skiprows=range(1, 11))\n",
        "    df_list.append(df)\n",
        "\n",
        "dexcom_df = pd.concat(df_list, ignore_index=True)\n",
        "\n",
        "dexcom_df.shape"
      ]
    },
    {
      "cell_type": "code",
      "execution_count": 4,
      "metadata": {
        "colab": {
          "base_uri": "https://localhost:8080/"
        },
        "id": "7_jK764CJsEa",
        "outputId": "3cac84ec-be9b-4f9d-860d-8765216c9462"
      },
      "outputs": [
        {
          "data": {
            "text/plain": [
              "Index(['Index', 'Timestamp (YYYY-MM-DDThh:mm:ss)', 'Event Type',\n",
              "       'Event Subtype', 'Patient Info', 'Device Info', 'Source Device ID',\n",
              "       'Glucose Value (mg/dL)', 'Insulin Value (u)', 'Carb Value (grams)',\n",
              "       'Duration (hh:mm:ss)', 'Glucose Rate of Change (mg/dL/min)',\n",
              "       'Transmitter Time (Long Integer)', 'Transmitter ID'],\n",
              "      dtype='object')"
            ]
          },
          "execution_count": 4,
          "metadata": {},
          "output_type": "execute_result"
        }
      ],
      "source": [
        "dexcom_df.columns"
      ]
    },
    {
      "cell_type": "code",
      "execution_count": 3,
      "metadata": {
        "id": "JPbI3sALJUdE"
      },
      "outputs": [],
      "source": [
        "timeseries_data = dexcom_df[['Glucose Value (mg/dL)']]"
      ]
    },
    {
      "cell_type": "code",
      "execution_count": 4,
      "metadata": {
        "collapsed": true,
        "id": "nzSXjnw_KB-0"
      },
      "outputs": [],
      "source": [
        "dexcom_df.loc[dexcom_df['Glucose Value (mg/dL)'] == 'Low', 'Glucose Value (mg/dL)'] = 39\n",
        "dexcom_df.loc[dexcom_df['Glucose Value (mg/dL)'] == 'High', 'Glucose Value (mg/dL)'] = 401"
      ]
    },
    {
      "cell_type": "code",
      "execution_count": 5,
      "metadata": {
        "colab": {
          "base_uri": "https://localhost:8080/",
          "height": 352
        },
        "id": "J9sEayKGO9Zr",
        "outputId": "dc491660-9300-4b1c-f85c-4cd6b2c77370"
      },
      "outputs": [
        {
          "data": {
            "text/html": [
              "<div>\n",
              "<style scoped>\n",
              "    .dataframe tbody tr th:only-of-type {\n",
              "        vertical-align: middle;\n",
              "    }\n",
              "\n",
              "    .dataframe tbody tr th {\n",
              "        vertical-align: top;\n",
              "    }\n",
              "\n",
              "    .dataframe thead th {\n",
              "        text-align: right;\n",
              "    }\n",
              "</style>\n",
              "<table border=\"1\" class=\"dataframe\">\n",
              "  <thead>\n",
              "    <tr style=\"text-align: right;\">\n",
              "      <th></th>\n",
              "      <th>Index</th>\n",
              "      <th>Timestamp (YYYY-MM-DDThh:mm:ss)</th>\n",
              "      <th>Event Type</th>\n",
              "      <th>Event Subtype</th>\n",
              "      <th>Source Device ID</th>\n",
              "      <th>Glucose Value (mg/dL)</th>\n",
              "      <th>Transmitter Time (Long Integer)</th>\n",
              "      <th>Transmitter ID</th>\n",
              "    </tr>\n",
              "  </thead>\n",
              "  <tbody>\n",
              "    <tr>\n",
              "      <th>0</th>\n",
              "      <td>11</td>\n",
              "      <td>2022-09-15 00:01:06</td>\n",
              "      <td>EGV</td>\n",
              "      <td>NaN</td>\n",
              "      <td>iOS G6</td>\n",
              "      <td>126</td>\n",
              "      <td>7024275.0</td>\n",
              "      <td>8XSKAL</td>\n",
              "    </tr>\n",
              "    <tr>\n",
              "      <th>1</th>\n",
              "      <td>12</td>\n",
              "      <td>2022-09-15 00:06:05</td>\n",
              "      <td>EGV</td>\n",
              "      <td>NaN</td>\n",
              "      <td>iOS G6</td>\n",
              "      <td>128</td>\n",
              "      <td>7024575.0</td>\n",
              "      <td>8XSKAL</td>\n",
              "    </tr>\n",
              "    <tr>\n",
              "      <th>2</th>\n",
              "      <td>13</td>\n",
              "      <td>2022-09-15 00:11:05</td>\n",
              "      <td>EGV</td>\n",
              "      <td>NaN</td>\n",
              "      <td>iOS G6</td>\n",
              "      <td>128</td>\n",
              "      <td>7024875.0</td>\n",
              "      <td>8XSKAL</td>\n",
              "    </tr>\n",
              "    <tr>\n",
              "      <th>3</th>\n",
              "      <td>14</td>\n",
              "      <td>2022-09-15 00:16:05</td>\n",
              "      <td>EGV</td>\n",
              "      <td>NaN</td>\n",
              "      <td>iOS G6</td>\n",
              "      <td>130</td>\n",
              "      <td>7025175.0</td>\n",
              "      <td>8XSKAL</td>\n",
              "    </tr>\n",
              "    <tr>\n",
              "      <th>4</th>\n",
              "      <td>15</td>\n",
              "      <td>2022-09-15 00:21:06</td>\n",
              "      <td>EGV</td>\n",
              "      <td>NaN</td>\n",
              "      <td>iOS G6</td>\n",
              "      <td>132</td>\n",
              "      <td>7025475.0</td>\n",
              "      <td>8XSKAL</td>\n",
              "    </tr>\n",
              "  </tbody>\n",
              "</table>\n",
              "</div>"
            ],
            "text/plain": [
              "   Index Timestamp (YYYY-MM-DDThh:mm:ss) Event Type Event Subtype  \\\n",
              "0     11             2022-09-15 00:01:06        EGV           NaN   \n",
              "1     12             2022-09-15 00:06:05        EGV           NaN   \n",
              "2     13             2022-09-15 00:11:05        EGV           NaN   \n",
              "3     14             2022-09-15 00:16:05        EGV           NaN   \n",
              "4     15             2022-09-15 00:21:06        EGV           NaN   \n",
              "\n",
              "  Source Device ID  Glucose Value (mg/dL)  Transmitter Time (Long Integer)  \\\n",
              "0           iOS G6                    126                        7024275.0   \n",
              "1           iOS G6                    128                        7024575.0   \n",
              "2           iOS G6                    128                        7024875.0   \n",
              "3           iOS G6                    130                        7025175.0   \n",
              "4           iOS G6                    132                        7025475.0   \n",
              "\n",
              "  Transmitter ID  \n",
              "0         8XSKAL  \n",
              "1         8XSKAL  \n",
              "2         8XSKAL  \n",
              "3         8XSKAL  \n",
              "4         8XSKAL  "
            ]
          },
          "execution_count": 5,
          "metadata": {},
          "output_type": "execute_result"
        }
      ],
      "source": [
        "dexcom_df['Timestamp (YYYY-MM-DDThh:mm:ss)'] = pd.to_datetime(dexcom_df['Timestamp (YYYY-MM-DDThh:mm:ss)'])\n",
        "dexcom_df['Glucose Value (mg/dL)'] = dexcom_df['Glucose Value (mg/dL)'].astype(int)\n",
        "cols_to_drop = ['Patient Info', 'Device Info', 'Duration (hh:mm:ss)', 'Carb Value (grams)', 'Insulin Value (u)','Glucose Rate of Change (mg/dL/min)']\n",
        "for col in cols_to_drop:\n",
        "    dexcom_df = dexcom_df.drop(col, axis=1)\n",
        "dexcom_df.head()"
      ]
    },
    {
      "cell_type": "code",
      "execution_count": 6,
      "metadata": {},
      "outputs": [],
      "source": [
        "# Maybe just start by plotting a timeframe\n",
        "sept15_22 = dexcom_df[dexcom_df['Timestamp (YYYY-MM-DDThh:mm:ss)'].dt.date == pd.to_datetime('2022-09-15').date()]\n"
      ]
    },
    {
      "cell_type": "code",
      "execution_count": 8,
      "metadata": {},
      "outputs": [],
      "source": [
        "x = sept15_22['Timestamp (YYYY-MM-DDThh:mm:ss)']\n",
        "y = sept15_22['Glucose Value (mg/dL)']"
      ]
    },
    {
      "cell_type": "code",
      "execution_count": 9,
      "metadata": {},
      "outputs": [
        {
          "data": {
            "text/plain": [
              "([<matplotlib.axis.YTick at 0x29fa6bd60>,\n",
              "  <matplotlib.axis.YTick at 0x29fa534f0>,\n",
              "  <matplotlib.axis.YTick at 0x29fc543a0>,\n",
              "  <matplotlib.axis.YTick at 0x29fb4f580>,\n",
              "  <matplotlib.axis.YTick at 0x29fcdcd90>,\n",
              "  <matplotlib.axis.YTick at 0x29fe42880>,\n",
              "  <matplotlib.axis.YTick at 0x29fe49370>,\n",
              "  <matplotlib.axis.YTick at 0x29fe49e20>,\n",
              "  <matplotlib.axis.YTick at 0x29fe42460>,\n",
              "  <matplotlib.axis.YTick at 0x29fe4e880>,\n",
              "  <matplotlib.axis.YTick at 0x29fe55370>,\n",
              "  <matplotlib.axis.YTick at 0x29fe55e50>,\n",
              "  <matplotlib.axis.YTick at 0x29fe55a90>,\n",
              "  <matplotlib.axis.YTick at 0x29fe59790>,\n",
              "  <matplotlib.axis.YTick at 0x29fe60280>,\n",
              "  <matplotlib.axis.YTick at 0x29fe60d30>,\n",
              "  <matplotlib.axis.YTick at 0x29fe64820>],\n",
              " [Text(0, 67, '67'),\n",
              "  Text(0, 77, '77'),\n",
              "  Text(0, 87, '87'),\n",
              "  Text(0, 97, '97'),\n",
              "  Text(0, 107, '107'),\n",
              "  Text(0, 117, '117'),\n",
              "  Text(0, 127, '127'),\n",
              "  Text(0, 137, '137'),\n",
              "  Text(0, 147, '147'),\n",
              "  Text(0, 157, '157'),\n",
              "  Text(0, 167, '167'),\n",
              "  Text(0, 177, '177'),\n",
              "  Text(0, 187, '187'),\n",
              "  Text(0, 197, '197'),\n",
              "  Text(0, 207, '207'),\n",
              "  Text(0, 217, '217'),\n",
              "  Text(0, 227, '227')])"
            ]
          },
          "execution_count": 9,
          "metadata": {},
          "output_type": "execute_result"
        },
        {
          "data": {
            "image/png": "[encoded data removed]",
            "text/plain": [
              "<Figure size 640x480 with 1 Axes>"
            ]
          },
          "metadata": {},
          "output_type": "display_data"
        }
      ],
      "source": [
        "plt.plot(x,y)\n",
        "plt.yticks(np.arange(min(y), max(y), 10))"
      ]
    },
    {
      "cell_type": "code",
      "execution_count": 20,
      "metadata": {
        "id": "xZj1DNjqP5T9"
      },
      "outputs": [],
      "source": [
        "# Group by week using pd.Grouper (by default, groups by end-of-week, usually Sunday)\n",
        "weekly_groups = dexcom_df.groupby(pd.Grouper(key='Timestamp', freq='W'))\n",
        "\n",
        "# Create a list of weekly time series for the glucose values.\n",
        "# Each element in weekly_series is a numpy array representing one week's data.\n",
        "weekly_series = [group['Glucose Value (mg/dL)'].values\n",
        "                 for _, group in weekly_groups if not group.empty]"
      ]
    },
    {
      "cell_type": "code",
      "execution_count": 21,
      "metadata": {
        "colab": {
          "base_uri": "https://localhost:8080/"
        },
        "id": "1DmJ9flcQbJG",
        "outputId": "42a6a487-35c3-4969-fa16-0d477151d5ca"
      },
      "outputs": [
        {
          "name": "stdout",
          "output_type": "stream",
          "text": [
            "Shape of data_array: (172, 4008, 1)\n"
          ]
        }
      ],
      "source": [
        "max_length = max(len(series) for series in weekly_series)\n",
        "\n",
        "padded_series = []\n",
        "for series in weekly_series:\n",
        "    padded = np.pad(series, (0, max_length - len(series)), mode='edge')\n",
        "    padded_series.append(padded)\n",
        "\n",
        "data_array = np.array(padded_series)\n",
        "data_array = data_array[..., np.newaxis]  # Add a feature dimension\n",
        "\n",
        "print(\"Shape of data_array:\", data_array.shape)"
      ]
    },
    {
      "cell_type": "code",
      "execution_count": 23,
      "metadata": {},
      "outputs": [],
      "source": [
        "normalized_data = []\n",
        "scaler = MinMaxScaler()\n",
        "for series in data_array:\n",
        "    normalized_series = scaler.fit_transform(series)\n",
        "    normalized_data.append(normalized_series)\n",
        "normalized_data = np.array(normalized_data)\n",
        "\n",
        "sample_size = 50  # adjust based on your needs\n",
        "sampled_data = normalized_data[:sample_size]"
      ]
    },
    {
      "cell_type": "code",
      "execution_count": 24,
      "metadata": {},
      "outputs": [],
      "source": [
        "distance_matrix = cdist_dtw(sampled_data, n_jobs=-1)"
      ]
    },
    {
      "cell_type": "code",
      "execution_count": 27,
      "metadata": {
        "id": "5WgS6XzgL2ls"
      },
      "outputs": [
        {
          "name": "stdout",
          "output_type": "stream",
          "text": [
            "kmeans\n"
          ]
        },
        {
          "ename": "KeyboardInterrupt",
          "evalue": "",
          "output_type": "error",
          "traceback": [
            "\u001b[0;31m---------------------------------------------------------------------------\u001b[0m",
            "\u001b[0;31mKeyboardInterrupt\u001b[0m                         Traceback (most recent call last)",
            "Cell \u001b[0;32mIn[27], line 7\u001b[0m\n\u001b[1;32m      5\u001b[0m kmeans \u001b[38;5;241m=\u001b[39m TimeSeriesKMeans(n_clusters\u001b[38;5;241m=\u001b[39mn_clusters, metric\u001b[38;5;241m=\u001b[39m\u001b[38;5;124m\"\u001b[39m\u001b[38;5;124mdtw\u001b[39m\u001b[38;5;124m\"\u001b[39m, random_state\u001b[38;5;241m=\u001b[39m\u001b[38;5;241m0\u001b[39m)\n\u001b[1;32m      6\u001b[0m \u001b[38;5;28mprint\u001b[39m(\u001b[38;5;124m'\u001b[39m\u001b[38;5;124mkmeans\u001b[39m\u001b[38;5;124m'\u001b[39m)\n\u001b[0;32m----> 7\u001b[0m clusters \u001b[38;5;241m=\u001b[39m \u001b[43mkmeans\u001b[49m\u001b[38;5;241;43m.\u001b[39;49m\u001b[43mfit_predict\u001b[49m\u001b[43m(\u001b[49m\u001b[43msampled_data\u001b[49m\u001b[43m)\u001b[49m\n\u001b[1;32m      8\u001b[0m \u001b[38;5;28mprint\u001b[39m(\u001b[38;5;124m'\u001b[39m\u001b[38;5;124mclusters\u001b[39m\u001b[38;5;124m'\u001b[39m)\n\u001b[1;32m      9\u001b[0m score \u001b[38;5;241m=\u001b[39m silhouette_score(distance_matrix, clusters, metric\u001b[38;5;241m=\u001b[39m\u001b[38;5;124m\"\u001b[39m\u001b[38;5;124mprecomputed\u001b[39m\u001b[38;5;124m\"\u001b[39m)\n",
            "File \u001b[0;32m~/miniconda3/envs/lfads-torch/lib/python3.9/site-packages/tslearn/clustering/kmeans.py:854\u001b[0m, in \u001b[0;36mTimeSeriesKMeans.fit_predict\u001b[0;34m(self, X, y)\u001b[0m\n\u001b[1;32m    834\u001b[0m \u001b[38;5;250m\u001b[39m\u001b[38;5;124;03m\"\"\"Fit k-means clustering using X and then predict the closest cluster\u001b[39;00m\n\u001b[1;32m    835\u001b[0m \u001b[38;5;124;03meach time series in X belongs to.\u001b[39;00m\n\u001b[1;32m    836\u001b[0m \n\u001b[0;32m   (...)\u001b[0m\n\u001b[1;32m    851\u001b[0m \u001b[38;5;124;03m    Index of the cluster each sample belongs to.\u001b[39;00m\n\u001b[1;32m    852\u001b[0m \u001b[38;5;124;03m\"\"\"\u001b[39;00m\n\u001b[1;32m    853\u001b[0m X \u001b[38;5;241m=\u001b[39m check_array(X, allow_nd\u001b[38;5;241m=\u001b[39m\u001b[38;5;28;01mTrue\u001b[39;00m, force_all_finite\u001b[38;5;241m=\u001b[39m\u001b[38;5;124m\"\u001b[39m\u001b[38;5;124mallow-nan\u001b[39m\u001b[38;5;124m\"\u001b[39m)\n\u001b[0;32m--> 854\u001b[0m \u001b[38;5;28;01mreturn\u001b[39;00m \u001b[38;5;28;43mself\u001b[39;49m\u001b[38;5;241;43m.\u001b[39;49m\u001b[43mfit\u001b[49m\u001b[43m(\u001b[49m\u001b[43mX\u001b[49m\u001b[43m,\u001b[49m\u001b[43m \u001b[49m\u001b[43my\u001b[49m\u001b[43m)\u001b[49m\u001b[38;5;241m.\u001b[39mlabels_\n",
            "File \u001b[0;32m~/miniconda3/envs/lfads-torch/lib/python3.9/site-packages/tslearn/clustering/kmeans.py:821\u001b[0m, in \u001b[0;36mTimeSeriesKMeans.fit\u001b[0;34m(self, X, y)\u001b[0m\n\u001b[1;32m    819\u001b[0m     \u001b[38;5;28mprint\u001b[39m(\u001b[38;5;124m\"\u001b[39m\u001b[38;5;124mInit \u001b[39m\u001b[38;5;132;01m%d\u001b[39;00m\u001b[38;5;124m\"\u001b[39m \u001b[38;5;241m%\u001b[39m (n_successful \u001b[38;5;241m+\u001b[39m \u001b[38;5;241m1\u001b[39m))\n\u001b[1;32m    820\u001b[0m n_attempts \u001b[38;5;241m+\u001b[39m\u001b[38;5;241m=\u001b[39m \u001b[38;5;241m1\u001b[39m\n\u001b[0;32m--> 821\u001b[0m \u001b[38;5;28;43mself\u001b[39;49m\u001b[38;5;241;43m.\u001b[39;49m\u001b[43m_fit_one_init\u001b[49m\u001b[43m(\u001b[49m\u001b[43mX_\u001b[49m\u001b[43m,\u001b[49m\u001b[43m \u001b[49m\u001b[43mx_squared_norms\u001b[49m\u001b[43m,\u001b[49m\u001b[43m \u001b[49m\u001b[43mrs\u001b[49m\u001b[43m)\u001b[49m\n\u001b[1;32m    822\u001b[0m \u001b[38;5;28;01mif\u001b[39;00m \u001b[38;5;28mself\u001b[39m\u001b[38;5;241m.\u001b[39minertia_ \u001b[38;5;241m<\u001b[39m min_inertia:\n\u001b[1;32m    823\u001b[0m     best_correct_centroids \u001b[38;5;241m=\u001b[39m \u001b[38;5;28mself\u001b[39m\u001b[38;5;241m.\u001b[39mcluster_centers_\u001b[38;5;241m.\u001b[39mcopy()\n",
            "File \u001b[0;32m~/miniconda3/envs/lfads-torch/lib/python3.9/site-packages/tslearn/clustering/kmeans.py:690\u001b[0m, in \u001b[0;36mTimeSeriesKMeans._fit_one_init\u001b[0;34m(self, X, x_squared_norms, rs)\u001b[0m\n\u001b[1;32m    688\u001b[0m \u001b[38;5;28;01mif\u001b[39;00m \u001b[38;5;28mself\u001b[39m\u001b[38;5;241m.\u001b[39mverbose:\n\u001b[1;32m    689\u001b[0m     \u001b[38;5;28mprint\u001b[39m(\u001b[38;5;124m\"\u001b[39m\u001b[38;5;132;01m%.3f\u001b[39;00m\u001b[38;5;124m\"\u001b[39m \u001b[38;5;241m%\u001b[39m \u001b[38;5;28mself\u001b[39m\u001b[38;5;241m.\u001b[39minertia_, end\u001b[38;5;241m=\u001b[39m\u001b[38;5;124m\"\u001b[39m\u001b[38;5;124m --> \u001b[39m\u001b[38;5;124m\"\u001b[39m)\n\u001b[0;32m--> 690\u001b[0m \u001b[38;5;28;43mself\u001b[39;49m\u001b[38;5;241;43m.\u001b[39;49m\u001b[43m_update_centroids\u001b[49m\u001b[43m(\u001b[49m\u001b[43mX\u001b[49m\u001b[43m)\u001b[49m\n\u001b[1;32m    692\u001b[0m \u001b[38;5;28;01mif\u001b[39;00m numpy\u001b[38;5;241m.\u001b[39mabs(old_inertia \u001b[38;5;241m-\u001b[39m \u001b[38;5;28mself\u001b[39m\u001b[38;5;241m.\u001b[39minertia_) \u001b[38;5;241m<\u001b[39m \u001b[38;5;28mself\u001b[39m\u001b[38;5;241m.\u001b[39mtol:\n\u001b[1;32m    693\u001b[0m     \u001b[38;5;28;01mbreak\u001b[39;00m\n",
            "File \u001b[0;32m~/miniconda3/envs/lfads-torch/lib/python3.9/site-packages/tslearn/clustering/kmeans.py:747\u001b[0m, in \u001b[0;36mTimeSeriesKMeans._update_centroids\u001b[0;34m(self, X)\u001b[0m\n\u001b[1;32m    745\u001b[0m \u001b[38;5;28;01mfor\u001b[39;00m k \u001b[38;5;129;01min\u001b[39;00m \u001b[38;5;28mrange\u001b[39m(\u001b[38;5;28mself\u001b[39m\u001b[38;5;241m.\u001b[39mn_clusters):\n\u001b[1;32m    746\u001b[0m     \u001b[38;5;28;01mif\u001b[39;00m \u001b[38;5;28mself\u001b[39m\u001b[38;5;241m.\u001b[39mmetric \u001b[38;5;241m==\u001b[39m \u001b[38;5;124m\"\u001b[39m\u001b[38;5;124mdtw\u001b[39m\u001b[38;5;124m\"\u001b[39m:\n\u001b[0;32m--> 747\u001b[0m         \u001b[38;5;28mself\u001b[39m\u001b[38;5;241m.\u001b[39mcluster_centers_[k] \u001b[38;5;241m=\u001b[39m \u001b[43mdtw_barycenter_averaging\u001b[49m\u001b[43m(\u001b[49m\n\u001b[1;32m    748\u001b[0m \u001b[43m            \u001b[49m\u001b[43mX\u001b[49m\u001b[38;5;241;43m=\u001b[39;49m\u001b[43mX\u001b[49m\u001b[43m[\u001b[49m\u001b[38;5;28;43mself\u001b[39;49m\u001b[38;5;241;43m.\u001b[39;49m\u001b[43mlabels_\u001b[49m\u001b[43m \u001b[49m\u001b[38;5;241;43m==\u001b[39;49m\u001b[43m \u001b[49m\u001b[43mk\u001b[49m\u001b[43m]\u001b[49m\u001b[43m,\u001b[49m\n\u001b[1;32m    749\u001b[0m \u001b[43m            \u001b[49m\u001b[43mbarycenter_size\u001b[49m\u001b[38;5;241;43m=\u001b[39;49m\u001b[38;5;28;43;01mNone\u001b[39;49;00m\u001b[43m,\u001b[49m\n\u001b[1;32m    750\u001b[0m \u001b[43m            \u001b[49m\u001b[43minit_barycenter\u001b[49m\u001b[38;5;241;43m=\u001b[39;49m\u001b[38;5;28;43mself\u001b[39;49m\u001b[38;5;241;43m.\u001b[39;49m\u001b[43mcluster_centers_\u001b[49m\u001b[43m[\u001b[49m\u001b[43mk\u001b[49m\u001b[43m]\u001b[49m\u001b[43m,\u001b[49m\n\u001b[1;32m    751\u001b[0m \u001b[43m            \u001b[49m\u001b[43mmetric_params\u001b[49m\u001b[38;5;241;43m=\u001b[39;49m\u001b[43mmetric_params\u001b[49m\u001b[43m,\u001b[49m\n\u001b[1;32m    752\u001b[0m \u001b[43m            \u001b[49m\u001b[43mverbose\u001b[49m\u001b[38;5;241;43m=\u001b[39;49m\u001b[38;5;28;43;01mFalse\u001b[39;49;00m\u001b[43m,\u001b[49m\n\u001b[1;32m    753\u001b[0m \u001b[43m        \u001b[49m\u001b[43m)\u001b[49m\n\u001b[1;32m    754\u001b[0m     \u001b[38;5;28;01melif\u001b[39;00m \u001b[38;5;28mself\u001b[39m\u001b[38;5;241m.\u001b[39mmetric \u001b[38;5;241m==\u001b[39m \u001b[38;5;124m\"\u001b[39m\u001b[38;5;124msoftdtw\u001b[39m\u001b[38;5;124m\"\u001b[39m:\n\u001b[1;32m    755\u001b[0m         \u001b[38;5;28mself\u001b[39m\u001b[38;5;241m.\u001b[39mcluster_centers_[k] \u001b[38;5;241m=\u001b[39m softdtw_barycenter(\n\u001b[1;32m    756\u001b[0m             X\u001b[38;5;241m=\u001b[39mX[\u001b[38;5;28mself\u001b[39m\u001b[38;5;241m.\u001b[39mlabels_ \u001b[38;5;241m==\u001b[39m k],\n\u001b[1;32m    757\u001b[0m             max_iter\u001b[38;5;241m=\u001b[39m\u001b[38;5;28mself\u001b[39m\u001b[38;5;241m.\u001b[39mmax_iter_barycenter,\n\u001b[1;32m    758\u001b[0m             init\u001b[38;5;241m=\u001b[39m\u001b[38;5;28mself\u001b[39m\u001b[38;5;241m.\u001b[39mcluster_centers_[k],\n\u001b[1;32m    759\u001b[0m             \u001b[38;5;241m*\u001b[39m\u001b[38;5;241m*\u001b[39mmetric_params\n\u001b[1;32m    760\u001b[0m         )\n",
            "File \u001b[0;32m~/miniconda3/envs/lfads-torch/lib/python3.9/site-packages/tslearn/barycenters/dba.py:498\u001b[0m, in \u001b[0;36mdtw_barycenter_averaging\u001b[0;34m(X, barycenter_size, init_barycenter, max_iter, tol, weights, metric_params, verbose, n_init)\u001b[0m\n\u001b[1;32m    496\u001b[0m \u001b[38;5;28;01mif\u001b[39;00m verbose:\n\u001b[1;32m    497\u001b[0m     \u001b[38;5;28mprint\u001b[39m(\u001b[38;5;124m\"\u001b[39m\u001b[38;5;124mAttempt \u001b[39m\u001b[38;5;132;01m{}\u001b[39;00m\u001b[38;5;124m\"\u001b[39m\u001b[38;5;241m.\u001b[39mformat(i \u001b[38;5;241m+\u001b[39m \u001b[38;5;241m1\u001b[39m))\n\u001b[0;32m--> 498\u001b[0m bary, loss \u001b[38;5;241m=\u001b[39m \u001b[43mdtw_barycenter_averaging_one_init\u001b[49m\u001b[43m(\u001b[49m\n\u001b[1;32m    499\u001b[0m \u001b[43m    \u001b[49m\u001b[43mX\u001b[49m\u001b[38;5;241;43m=\u001b[39;49m\u001b[43mX\u001b[49m\u001b[43m,\u001b[49m\n\u001b[1;32m    500\u001b[0m \u001b[43m    \u001b[49m\u001b[43mbarycenter_size\u001b[49m\u001b[38;5;241;43m=\u001b[39;49m\u001b[43mbarycenter_size\u001b[49m\u001b[43m,\u001b[49m\n\u001b[1;32m    501\u001b[0m \u001b[43m    \u001b[49m\u001b[43minit_barycenter\u001b[49m\u001b[38;5;241;43m=\u001b[39;49m\u001b[43minit_barycenter\u001b[49m\u001b[43m,\u001b[49m\n\u001b[1;32m    502\u001b[0m \u001b[43m    \u001b[49m\u001b[43mmax_iter\u001b[49m\u001b[38;5;241;43m=\u001b[39;49m\u001b[43mmax_iter\u001b[49m\u001b[43m,\u001b[49m\n\u001b[1;32m    503\u001b[0m \u001b[43m    \u001b[49m\u001b[43mtol\u001b[49m\u001b[38;5;241;43m=\u001b[39;49m\u001b[43mtol\u001b[49m\u001b[43m,\u001b[49m\n\u001b[1;32m    504\u001b[0m \u001b[43m    \u001b[49m\u001b[43mweights\u001b[49m\u001b[38;5;241;43m=\u001b[39;49m\u001b[43mweights\u001b[49m\u001b[43m,\u001b[49m\n\u001b[1;32m    505\u001b[0m \u001b[43m    \u001b[49m\u001b[43mmetric_params\u001b[49m\u001b[38;5;241;43m=\u001b[39;49m\u001b[43mmetric_params\u001b[49m\u001b[43m,\u001b[49m\n\u001b[1;32m    506\u001b[0m \u001b[43m    \u001b[49m\u001b[43mverbose\u001b[49m\u001b[38;5;241;43m=\u001b[39;49m\u001b[43mverbose\u001b[49m\n\u001b[1;32m    507\u001b[0m \u001b[43m\u001b[49m\u001b[43m)\u001b[49m\n\u001b[1;32m    508\u001b[0m \u001b[38;5;28;01mif\u001b[39;00m loss \u001b[38;5;241m<\u001b[39m best_cost:\n\u001b[1;32m    509\u001b[0m     best_cost \u001b[38;5;241m=\u001b[39m loss\n",
            "File \u001b[0;32m~/miniconda3/envs/lfads-torch/lib/python3.9/site-packages/tslearn/barycenters/dba.py:590\u001b[0m, in \u001b[0;36mdtw_barycenter_averaging_one_init\u001b[0;34m(X, barycenter_size, init_barycenter, max_iter, tol, weights, metric_params, verbose)\u001b[0m\n\u001b[1;32m    588\u001b[0m cost_prev, cost \u001b[38;5;241m=\u001b[39m numpy\u001b[38;5;241m.\u001b[39minf, numpy\u001b[38;5;241m.\u001b[39minf\n\u001b[1;32m    589\u001b[0m \u001b[38;5;28;01mfor\u001b[39;00m it \u001b[38;5;129;01min\u001b[39;00m \u001b[38;5;28mrange\u001b[39m(max_iter):\n\u001b[0;32m--> 590\u001b[0m     list_p_k, cost \u001b[38;5;241m=\u001b[39m \u001b[43m_mm_assignment\u001b[49m\u001b[43m(\u001b[49m\u001b[43mX_\u001b[49m\u001b[43m,\u001b[49m\u001b[43m \u001b[49m\u001b[43mbarycenter\u001b[49m\u001b[43m,\u001b[49m\u001b[43m \u001b[49m\u001b[43mweights\u001b[49m\u001b[43m,\u001b[49m\u001b[43m \u001b[49m\u001b[43mmetric_params\u001b[49m\u001b[43m)\u001b[49m\n\u001b[1;32m    591\u001b[0m     diag_sum_v_k, list_w_k \u001b[38;5;241m=\u001b[39m _mm_valence_warping(list_p_k, barycenter_size,\n\u001b[1;32m    592\u001b[0m                                                  weights)\n\u001b[1;32m    593\u001b[0m     \u001b[38;5;28;01mif\u001b[39;00m verbose:\n",
            "File \u001b[0;32m~/miniconda3/envs/lfads-torch/lib/python3.9/site-packages/tslearn/barycenters/dba.py:214\u001b[0m, in \u001b[0;36m_mm_assignment\u001b[0;34m(X, barycenter, weights, metric_params)\u001b[0m\n\u001b[1;32m    212\u001b[0m list_p_k \u001b[38;5;241m=\u001b[39m []\n\u001b[1;32m    213\u001b[0m \u001b[38;5;28;01mfor\u001b[39;00m i \u001b[38;5;129;01min\u001b[39;00m \u001b[38;5;28mrange\u001b[39m(n):\n\u001b[0;32m--> 214\u001b[0m     path, dist_i \u001b[38;5;241m=\u001b[39m \u001b[43mdtw_path\u001b[49m\u001b[43m(\u001b[49m\u001b[43mbarycenter\u001b[49m\u001b[43m,\u001b[49m\u001b[43m \u001b[49m\u001b[43mX\u001b[49m\u001b[43m[\u001b[49m\u001b[43mi\u001b[49m\u001b[43m]\u001b[49m\u001b[43m,\u001b[49m\u001b[43m \u001b[49m\u001b[38;5;241;43m*\u001b[39;49m\u001b[38;5;241;43m*\u001b[39;49m\u001b[43mmetric_params\u001b[49m\u001b[43m)\u001b[49m\n\u001b[1;32m    215\u001b[0m     cost \u001b[38;5;241m+\u001b[39m\u001b[38;5;241m=\u001b[39m dist_i \u001b[38;5;241m*\u001b[39m\u001b[38;5;241m*\u001b[39m \u001b[38;5;241m2\u001b[39m \u001b[38;5;241m*\u001b[39m weights[i]\n\u001b[1;32m    216\u001b[0m     list_p_k\u001b[38;5;241m.\u001b[39mappend(path)\n",
            "File \u001b[0;32m~/miniconda3/envs/lfads-torch/lib/python3.9/site-packages/tslearn/metrics/dtw_variants.py:402\u001b[0m, in \u001b[0;36mdtw_path\u001b[0;34m(s1, s2, global_constraint, sakoe_chiba_radius, itakura_max_slope, be)\u001b[0m\n\u001b[1;32m    393\u001b[0m mask \u001b[38;5;241m=\u001b[39m compute_mask(\n\u001b[1;32m    394\u001b[0m     s1,\n\u001b[1;32m    395\u001b[0m     s2,\n\u001b[0;32m   (...)\u001b[0m\n\u001b[1;32m    399\u001b[0m     be\u001b[38;5;241m=\u001b[39mbe,\n\u001b[1;32m    400\u001b[0m )\n\u001b[1;32m    401\u001b[0m \u001b[38;5;28;01mif\u001b[39;00m be\u001b[38;5;241m.\u001b[39mis_numpy:\n\u001b[0;32m--> 402\u001b[0m     acc_cost_mat \u001b[38;5;241m=\u001b[39m \u001b[43mnjit_accumulated_matrix\u001b[49m\u001b[43m(\u001b[49m\u001b[43ms1\u001b[49m\u001b[43m,\u001b[49m\u001b[43m \u001b[49m\u001b[43ms2\u001b[49m\u001b[43m,\u001b[49m\u001b[43m \u001b[49m\u001b[43mmask\u001b[49m\u001b[38;5;241;43m=\u001b[39;49m\u001b[43mmask\u001b[49m\u001b[43m)\u001b[49m\n\u001b[1;32m    403\u001b[0m     path \u001b[38;5;241m=\u001b[39m _njit_return_path(acc_cost_mat)\n\u001b[1;32m    404\u001b[0m \u001b[38;5;28;01melse\u001b[39;00m:\n",
            "File \u001b[0;32m~/miniconda3/envs/lfads-torch/lib/python3.9/site-packages/numba/core/serialize.py:30\u001b[0m, in \u001b[0;36m_numba_unpickle\u001b[0;34m(address, bytedata, hashed)\u001b[0m\n\u001b[1;32m     26\u001b[0m \u001b[38;5;66;03m# Keep unpickled object via `numba_unpickle` alive.\u001b[39;00m\n\u001b[1;32m     27\u001b[0m _unpickled_memo \u001b[38;5;241m=\u001b[39m {}\n\u001b[0;32m---> 30\u001b[0m \u001b[38;5;28;01mdef\u001b[39;00m \u001b[38;5;21m_numba_unpickle\u001b[39m(address, bytedata, hashed):\n\u001b[1;32m     31\u001b[0m \u001b[38;5;250m    \u001b[39m\u001b[38;5;124;03m\"\"\"Used by `numba_unpickle` from _helperlib.c\u001b[39;00m\n\u001b[1;32m     32\u001b[0m \n\u001b[1;32m     33\u001b[0m \u001b[38;5;124;03m    Parameters\u001b[39;00m\n\u001b[0;32m   (...)\u001b[0m\n\u001b[1;32m     42\u001b[0m \u001b[38;5;124;03m        unpickled object\u001b[39;00m\n\u001b[1;32m     43\u001b[0m \u001b[38;5;124;03m    \"\"\"\u001b[39;00m\n\u001b[1;32m     44\u001b[0m     key \u001b[38;5;241m=\u001b[39m (address, hashed)\n",
            "\u001b[0;31mKeyboardInterrupt\u001b[0m: "
          ]
        }
      ],
      "source": [
        "silhouette_scores = []\n",
        "n_clusters_range = range(2, 6)  # try 2 to 5 clusters\n",
        "\n",
        "for n_clusters in n_clusters_range:\n",
        "    kmeans = TimeSeriesKMeans(n_clusters=n_clusters, metric=\"dtw\", random_state=0)\n",
        "    print('kmeans')\n",
        "    clusters = kmeans.fit_predict(sampled_data)\n",
        "    print('clusters')\n",
        "    score = silhouette_score(distance_matrix, clusters, metric=\"precomputed\")\n",
        "    print('score')\n",
        "    silhouette_scores.append(score)\n",
        "    print('silhouette_scores')\n",
        "    print(f'Clusters: {n_clusters}, Silhouette Score: {score}')\n",
        "\n",
        "# Plot silhouette scores\n",
        "plt.plot(list(n_clusters_range), silhouette_scores, marker='o')\n",
        "plt.xlabel('Number of clusters')\n",
        "plt.ylabel('Silhouette Score')\n",
        "plt.title('Silhouette Score vs Number of Clusters')\n",
        "plt.show()"
      ]
    }
  ],
  "metadata": {
    "colab": {
      "provenance": []
    },
    "kernelspec": {
      "display_name": "Python 3",
      "name": "python3"
    },
    "language_info": {
      "name": "python"
    }
  },
  "nbformat": 4,
  "nbformat_minor": 0
}
